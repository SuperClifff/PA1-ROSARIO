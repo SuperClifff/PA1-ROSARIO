{
 "cells": [
  {
   "cell_type": "markdown",
   "id": "05015ab1",
   "metadata": {},
   "source": [
    "# PROGRAMMING PA 1\n",
    "\n",
    "## Alphabet Soup"
   ]
  },
  {
   "cell_type": "code",
   "execution_count": 1,
   "id": "49ee9d31",
   "metadata": {},
   "outputs": [
    {
     "name": "stdout",
     "output_type": "stream",
     "text": [
      " acdeffijlmors\n"
     ]
    }
   ],
   "source": [
    "def alphabet_soup(word):\n",
    "    alpha = ''.join(sorted(word))\n",
    "    return alpha\n",
    "word = 'clifford james'\n",
    "print (alphabet_soup(word))"
   ]
  },
  {
   "cell_type": "markdown",
   "id": "ee12bdb7",
   "metadata": {},
   "source": [
    "## Emoticon Problem"
   ]
  },
  {
   "cell_type": "code",
   "execution_count": 9,
   "id": "9b4dea93",
   "metadata": {},
   "outputs": [
    {
     "name": "stdout",
     "output_type": "stream",
     "text": [
      "My mood today is sad\n",
      ":((\n"
     ]
    }
   ],
   "source": [
    "def emotify(emotion):\n",
    "    if \"smile\" in emotion:feel=emotion.replace(\"happy\",\":)\")\n",
    "    elif 'grin' in emotion:feel=emotion.replace (\"grin\", \":D\")\n",
    "    elif 'sad' in emotion:feel=emotion.replace (\"sad\", \":((\")\n",
    "    elif 'mad' in emotion:feel=emotion.replace (\"mad\", \">:(\")\n",
    "    return feel\n",
    "\n",
    "feel = input('My mood today is ')\n",
    "print(emotify(feel))"
   ]
  },
  {
   "cell_type": "markdown",
   "id": "1f0f3aee",
   "metadata": {},
   "source": [
    "## Unpacking List Problem"
   ]
  },
  {
   "cell_type": "code",
   "execution_count": 14,
   "id": "24952bb7",
   "metadata": {
    "scrolled": true
   },
   "outputs": [
    {
     "name": "stdout",
     "output_type": "stream",
     "text": [
      "First: 10\n",
      "Middle: [20, 30, 40, 50, 60, 70, 80, 90, 100]\n",
      "Last: 110\n"
     ]
    }
   ],
   "source": [
    "lst = [10, 20, 30, 40, 50, 60, 70, 80, 90, 100, 110]\n",
    "\n",
    "print(\"First: \"+str(lst[0]))\n",
    "print(\"Middle: \"+str(lst[1:-1]))\n",
    "print(\"Last: \"+str(lst[10]))"
   ]
  },
  {
   "cell_type": "code",
   "execution_count": null,
   "id": "0dc521b6",
   "metadata": {},
   "outputs": [],
   "source": []
  }
 ],
 "metadata": {
  "kernelspec": {
   "display_name": "Python 3 (ipykernel)",
   "language": "python",
   "name": "python3"
  },
  "language_info": {
   "codemirror_mode": {
    "name": "ipython",
    "version": 3
   },
   "file_extension": ".py",
   "mimetype": "text/x-python",
   "name": "python",
   "nbconvert_exporter": "python",
   "pygments_lexer": "ipython3",
   "version": "3.11.4"
  }
 },
 "nbformat": 4,
 "nbformat_minor": 5
}
